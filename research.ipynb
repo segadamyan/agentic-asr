{
 "cells": [
  {
   "metadata": {},
   "cell_type": "code",
   "outputs": [],
   "execution_count": null,
   "source": [
    "%%capture\n",
    "!pip install datasets\n",
    "!pip install --upgrade transformers\n",
    "!pip install torchaudio\n",
    "!pip install jiwer\n",
    "!pip install accelerate -U"
   ],
   "id": "20780054eebe800f"
  }
 ],
 "metadata": {},
 "nbformat": 5,
 "nbformat_minor": 9
}
